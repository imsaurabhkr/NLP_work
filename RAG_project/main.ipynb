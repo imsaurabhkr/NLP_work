{
 "cells": [
  {
   "cell_type": "code",
   "execution_count": 1,
   "metadata": {},
   "outputs": [
    {
     "name": "stdout",
     "output_type": "stream",
     "text": [
      "ram\n"
     ]
    }
   ],
   "source": [
    "print(\"ram\")"
   ]
  },
  {
   "cell_type": "code",
   "execution_count": 2,
   "metadata": {},
   "outputs": [],
   "source": [
    "import streamlit as st"
   ]
  },
  {
   "cell_type": "code",
   "execution_count": 3,
   "metadata": {},
   "outputs": [
    {
     "name": "stdout",
     "output_type": "stream",
     "text": [
      "Requirement already satisfied: streamlit in /Users/saurabhkumar/opt/anaconda3/envs/RAG_project/lib/python3.11/site-packages (1.33.0)\n",
      "Requirement already satisfied: altair<6,>=4.0 in /Users/saurabhkumar/opt/anaconda3/envs/RAG_project/lib/python3.11/site-packages (from streamlit) (5.3.0)\n",
      "Requirement already satisfied: blinker<2,>=1.0.0 in /Users/saurabhkumar/opt/anaconda3/envs/RAG_project/lib/python3.11/site-packages (from streamlit) (1.7.0)\n",
      "Requirement already satisfied: cachetools<6,>=4.0 in /Users/saurabhkumar/opt/anaconda3/envs/RAG_project/lib/python3.11/site-packages (from streamlit) (5.3.3)\n",
      "Requirement already satisfied: click<9,>=7.0 in /Users/saurabhkumar/opt/anaconda3/envs/RAG_project/lib/python3.11/site-packages (from streamlit) (8.1.7)\n",
      "Requirement already satisfied: numpy<2,>=1.19.3 in /Users/saurabhkumar/opt/anaconda3/envs/RAG_project/lib/python3.11/site-packages (from streamlit) (1.26.4)\n",
      "Requirement already satisfied: packaging<25,>=16.8 in /Users/saurabhkumar/opt/anaconda3/envs/RAG_project/lib/python3.11/site-packages (from streamlit) (23.2)\n",
      "Requirement already satisfied: pandas<3,>=1.3.0 in /Users/saurabhkumar/opt/anaconda3/envs/RAG_project/lib/python3.11/site-packages (from streamlit) (2.2.1)\n",
      "Requirement already satisfied: pillow<11,>=7.1.0 in /Users/saurabhkumar/opt/anaconda3/envs/RAG_project/lib/python3.11/site-packages (from streamlit) (10.3.0)\n",
      "Requirement already satisfied: protobuf<5,>=3.20 in /Users/saurabhkumar/opt/anaconda3/envs/RAG_project/lib/python3.11/site-packages (from streamlit) (4.25.3)\n",
      "Requirement already satisfied: pyarrow>=7.0 in /Users/saurabhkumar/opt/anaconda3/envs/RAG_project/lib/python3.11/site-packages (from streamlit) (15.0.2)\n",
      "Requirement already satisfied: requests<3,>=2.27 in /Users/saurabhkumar/opt/anaconda3/envs/RAG_project/lib/python3.11/site-packages (from streamlit) (2.31.0)\n",
      "Requirement already satisfied: rich<14,>=10.14.0 in /Users/saurabhkumar/opt/anaconda3/envs/RAG_project/lib/python3.11/site-packages (from streamlit) (13.7.1)\n",
      "Requirement already satisfied: tenacity<9,>=8.1.0 in /Users/saurabhkumar/opt/anaconda3/envs/RAG_project/lib/python3.11/site-packages (from streamlit) (8.2.3)\n",
      "Requirement already satisfied: toml<2,>=0.10.1 in /Users/saurabhkumar/opt/anaconda3/envs/RAG_project/lib/python3.11/site-packages (from streamlit) (0.10.2)\n",
      "Requirement already satisfied: typing-extensions<5,>=4.3.0 in /Users/saurabhkumar/opt/anaconda3/envs/RAG_project/lib/python3.11/site-packages (from streamlit) (4.10.0)\n",
      "Requirement already satisfied: gitpython!=3.1.19,<4,>=3.0.7 in /Users/saurabhkumar/opt/anaconda3/envs/RAG_project/lib/python3.11/site-packages (from streamlit) (3.1.43)\n",
      "Requirement already satisfied: pydeck<1,>=0.8.0b4 in /Users/saurabhkumar/opt/anaconda3/envs/RAG_project/lib/python3.11/site-packages (from streamlit) (0.8.1b0)\n",
      "Requirement already satisfied: tornado<7,>=6.0.3 in /Users/saurabhkumar/opt/anaconda3/envs/RAG_project/lib/python3.11/site-packages (from streamlit) (6.4)\n",
      "Requirement already satisfied: jinja2 in /Users/saurabhkumar/opt/anaconda3/envs/RAG_project/lib/python3.11/site-packages (from altair<6,>=4.0->streamlit) (3.1.3)\n",
      "Requirement already satisfied: jsonschema>=3.0 in /Users/saurabhkumar/opt/anaconda3/envs/RAG_project/lib/python3.11/site-packages (from altair<6,>=4.0->streamlit) (4.21.1)\n",
      "Requirement already satisfied: toolz in /Users/saurabhkumar/opt/anaconda3/envs/RAG_project/lib/python3.11/site-packages (from altair<6,>=4.0->streamlit) (0.12.1)\n",
      "Requirement already satisfied: gitdb<5,>=4.0.1 in /Users/saurabhkumar/opt/anaconda3/envs/RAG_project/lib/python3.11/site-packages (from gitpython!=3.1.19,<4,>=3.0.7->streamlit) (4.0.11)\n",
      "Requirement already satisfied: python-dateutil>=2.8.2 in /Users/saurabhkumar/opt/anaconda3/envs/RAG_project/lib/python3.11/site-packages (from pandas<3,>=1.3.0->streamlit) (2.9.0)\n",
      "Requirement already satisfied: pytz>=2020.1 in /Users/saurabhkumar/opt/anaconda3/envs/RAG_project/lib/python3.11/site-packages (from pandas<3,>=1.3.0->streamlit) (2024.1)\n",
      "Requirement already satisfied: tzdata>=2022.7 in /Users/saurabhkumar/opt/anaconda3/envs/RAG_project/lib/python3.11/site-packages (from pandas<3,>=1.3.0->streamlit) (2024.1)\n",
      "Requirement already satisfied: charset-normalizer<4,>=2 in /Users/saurabhkumar/opt/anaconda3/envs/RAG_project/lib/python3.11/site-packages (from requests<3,>=2.27->streamlit) (3.3.2)\n",
      "Requirement already satisfied: idna<4,>=2.5 in /Users/saurabhkumar/opt/anaconda3/envs/RAG_project/lib/python3.11/site-packages (from requests<3,>=2.27->streamlit) (3.6)\n",
      "Requirement already satisfied: urllib3<3,>=1.21.1 in /Users/saurabhkumar/opt/anaconda3/envs/RAG_project/lib/python3.11/site-packages (from requests<3,>=2.27->streamlit) (2.2.1)\n",
      "Requirement already satisfied: certifi>=2017.4.17 in /Users/saurabhkumar/opt/anaconda3/envs/RAG_project/lib/python3.11/site-packages (from requests<3,>=2.27->streamlit) (2024.2.2)\n",
      "Requirement already satisfied: markdown-it-py>=2.2.0 in /Users/saurabhkumar/opt/anaconda3/envs/RAG_project/lib/python3.11/site-packages (from rich<14,>=10.14.0->streamlit) (3.0.0)\n",
      "Requirement already satisfied: pygments<3.0.0,>=2.13.0 in /Users/saurabhkumar/opt/anaconda3/envs/RAG_project/lib/python3.11/site-packages (from rich<14,>=10.14.0->streamlit) (2.17.2)\n",
      "Requirement already satisfied: smmap<6,>=3.0.1 in /Users/saurabhkumar/opt/anaconda3/envs/RAG_project/lib/python3.11/site-packages (from gitdb<5,>=4.0.1->gitpython!=3.1.19,<4,>=3.0.7->streamlit) (5.0.1)\n",
      "Requirement already satisfied: MarkupSafe>=2.0 in /Users/saurabhkumar/opt/anaconda3/envs/RAG_project/lib/python3.11/site-packages (from jinja2->altair<6,>=4.0->streamlit) (2.1.5)\n",
      "Requirement already satisfied: attrs>=22.2.0 in /Users/saurabhkumar/opt/anaconda3/envs/RAG_project/lib/python3.11/site-packages (from jsonschema>=3.0->altair<6,>=4.0->streamlit) (23.2.0)\n",
      "Requirement already satisfied: jsonschema-specifications>=2023.03.6 in /Users/saurabhkumar/opt/anaconda3/envs/RAG_project/lib/python3.11/site-packages (from jsonschema>=3.0->altair<6,>=4.0->streamlit) (2023.12.1)\n",
      "Requirement already satisfied: referencing>=0.28.4 in /Users/saurabhkumar/opt/anaconda3/envs/RAG_project/lib/python3.11/site-packages (from jsonschema>=3.0->altair<6,>=4.0->streamlit) (0.34.0)\n",
      "Requirement already satisfied: rpds-py>=0.7.1 in /Users/saurabhkumar/opt/anaconda3/envs/RAG_project/lib/python3.11/site-packages (from jsonschema>=3.0->altair<6,>=4.0->streamlit) (0.18.0)\n",
      "Requirement already satisfied: mdurl~=0.1 in /Users/saurabhkumar/opt/anaconda3/envs/RAG_project/lib/python3.11/site-packages (from markdown-it-py>=2.2.0->rich<14,>=10.14.0->streamlit) (0.1.2)\n",
      "Requirement already satisfied: six>=1.5 in /Users/saurabhkumar/opt/anaconda3/envs/RAG_project/lib/python3.11/site-packages (from python-dateutil>=2.8.2->pandas<3,>=1.3.0->streamlit) (1.16.0)\n",
      "Note: you may need to restart the kernel to use updated packages.\n"
     ]
    }
   ],
   "source": [
    "pip install streamlit"
   ]
  },
  {
   "cell_type": "code",
   "execution_count": 4,
   "metadata": {},
   "outputs": [],
   "source": [
    "import streamlit as st"
   ]
  },
  {
   "cell_type": "code",
   "execution_count": 5,
   "metadata": {},
   "outputs": [
    {
     "name": "stdout",
     "output_type": "stream",
     "text": [
      "Requirement already satisfied: streamlit in /Users/saurabhkumar/opt/anaconda3/envs/RAG_project/lib/python3.11/site-packages (from -r requirements.txt (line 1)) (1.33.0)\n",
      "Requirement already satisfied: google-generativeai in /Users/saurabhkumar/opt/anaconda3/envs/RAG_project/lib/python3.11/site-packages (from -r requirements.txt (line 2)) (0.4.1)\n",
      "Requirement already satisfied: python-dotenv in /Users/saurabhkumar/opt/anaconda3/envs/RAG_project/lib/python3.11/site-packages (from -r requirements.txt (line 3)) (1.0.1)\n",
      "Requirement already satisfied: langchain in /Users/saurabhkumar/opt/anaconda3/envs/RAG_project/lib/python3.11/site-packages (from -r requirements.txt (line 4)) (0.1.14)\n",
      "Requirement already satisfied: PyPDF2 in /Users/saurabhkumar/opt/anaconda3/envs/RAG_project/lib/python3.11/site-packages (from -r requirements.txt (line 5)) (3.0.1)\n",
      "Requirement already satisfied: faiss-cpu in /Users/saurabhkumar/opt/anaconda3/envs/RAG_project/lib/python3.11/site-packages (from -r requirements.txt (line 6)) (1.8.0)\n",
      "Requirement already satisfied: langchain_google_genai in /Users/saurabhkumar/opt/anaconda3/envs/RAG_project/lib/python3.11/site-packages (from -r requirements.txt (line 7)) (1.0.1)\n",
      "Requirement already satisfied: altair<6,>=4.0 in /Users/saurabhkumar/opt/anaconda3/envs/RAG_project/lib/python3.11/site-packages (from streamlit->-r requirements.txt (line 1)) (5.3.0)\n",
      "Requirement already satisfied: blinker<2,>=1.0.0 in /Users/saurabhkumar/opt/anaconda3/envs/RAG_project/lib/python3.11/site-packages (from streamlit->-r requirements.txt (line 1)) (1.7.0)\n",
      "Requirement already satisfied: cachetools<6,>=4.0 in /Users/saurabhkumar/opt/anaconda3/envs/RAG_project/lib/python3.11/site-packages (from streamlit->-r requirements.txt (line 1)) (5.3.3)\n",
      "Requirement already satisfied: click<9,>=7.0 in /Users/saurabhkumar/opt/anaconda3/envs/RAG_project/lib/python3.11/site-packages (from streamlit->-r requirements.txt (line 1)) (8.1.7)\n",
      "Requirement already satisfied: numpy<2,>=1.19.3 in /Users/saurabhkumar/opt/anaconda3/envs/RAG_project/lib/python3.11/site-packages (from streamlit->-r requirements.txt (line 1)) (1.26.4)\n",
      "Requirement already satisfied: packaging<25,>=16.8 in /Users/saurabhkumar/opt/anaconda3/envs/RAG_project/lib/python3.11/site-packages (from streamlit->-r requirements.txt (line 1)) (23.2)\n",
      "Requirement already satisfied: pandas<3,>=1.3.0 in /Users/saurabhkumar/opt/anaconda3/envs/RAG_project/lib/python3.11/site-packages (from streamlit->-r requirements.txt (line 1)) (2.2.1)\n",
      "Requirement already satisfied: pillow<11,>=7.1.0 in /Users/saurabhkumar/opt/anaconda3/envs/RAG_project/lib/python3.11/site-packages (from streamlit->-r requirements.txt (line 1)) (10.3.0)\n",
      "Requirement already satisfied: protobuf<5,>=3.20 in /Users/saurabhkumar/opt/anaconda3/envs/RAG_project/lib/python3.11/site-packages (from streamlit->-r requirements.txt (line 1)) (4.25.3)\n",
      "Requirement already satisfied: pyarrow>=7.0 in /Users/saurabhkumar/opt/anaconda3/envs/RAG_project/lib/python3.11/site-packages (from streamlit->-r requirements.txt (line 1)) (15.0.2)\n",
      "Requirement already satisfied: requests<3,>=2.27 in /Users/saurabhkumar/opt/anaconda3/envs/RAG_project/lib/python3.11/site-packages (from streamlit->-r requirements.txt (line 1)) (2.31.0)\n",
      "Requirement already satisfied: rich<14,>=10.14.0 in /Users/saurabhkumar/opt/anaconda3/envs/RAG_project/lib/python3.11/site-packages (from streamlit->-r requirements.txt (line 1)) (13.7.1)\n",
      "Requirement already satisfied: tenacity<9,>=8.1.0 in /Users/saurabhkumar/opt/anaconda3/envs/RAG_project/lib/python3.11/site-packages (from streamlit->-r requirements.txt (line 1)) (8.2.3)\n",
      "Requirement already satisfied: toml<2,>=0.10.1 in /Users/saurabhkumar/opt/anaconda3/envs/RAG_project/lib/python3.11/site-packages (from streamlit->-r requirements.txt (line 1)) (0.10.2)\n",
      "Requirement already satisfied: typing-extensions<5,>=4.3.0 in /Users/saurabhkumar/opt/anaconda3/envs/RAG_project/lib/python3.11/site-packages (from streamlit->-r requirements.txt (line 1)) (4.10.0)\n",
      "Requirement already satisfied: gitpython!=3.1.19,<4,>=3.0.7 in /Users/saurabhkumar/opt/anaconda3/envs/RAG_project/lib/python3.11/site-packages (from streamlit->-r requirements.txt (line 1)) (3.1.43)\n",
      "Requirement already satisfied: pydeck<1,>=0.8.0b4 in /Users/saurabhkumar/opt/anaconda3/envs/RAG_project/lib/python3.11/site-packages (from streamlit->-r requirements.txt (line 1)) (0.8.1b0)\n",
      "Requirement already satisfied: tornado<7,>=6.0.3 in /Users/saurabhkumar/opt/anaconda3/envs/RAG_project/lib/python3.11/site-packages (from streamlit->-r requirements.txt (line 1)) (6.4)\n",
      "Requirement already satisfied: google-ai-generativelanguage==0.4.0 in /Users/saurabhkumar/opt/anaconda3/envs/RAG_project/lib/python3.11/site-packages (from google-generativeai->-r requirements.txt (line 2)) (0.4.0)\n",
      "Requirement already satisfied: google-auth>=2.15.0 in /Users/saurabhkumar/opt/anaconda3/envs/RAG_project/lib/python3.11/site-packages (from google-generativeai->-r requirements.txt (line 2)) (2.29.0)\n",
      "Requirement already satisfied: google-api-core in /Users/saurabhkumar/opt/anaconda3/envs/RAG_project/lib/python3.11/site-packages (from google-generativeai->-r requirements.txt (line 2)) (2.18.0)\n",
      "Requirement already satisfied: pydantic in /Users/saurabhkumar/opt/anaconda3/envs/RAG_project/lib/python3.11/site-packages (from google-generativeai->-r requirements.txt (line 2)) (2.6.4)\n",
      "Requirement already satisfied: tqdm in /Users/saurabhkumar/opt/anaconda3/envs/RAG_project/lib/python3.11/site-packages (from google-generativeai->-r requirements.txt (line 2)) (4.66.2)\n",
      "Requirement already satisfied: proto-plus<2.0.0dev,>=1.22.3 in /Users/saurabhkumar/opt/anaconda3/envs/RAG_project/lib/python3.11/site-packages (from google-ai-generativelanguage==0.4.0->google-generativeai->-r requirements.txt (line 2)) (1.23.0)\n",
      "Requirement already satisfied: PyYAML>=5.3 in /Users/saurabhkumar/opt/anaconda3/envs/RAG_project/lib/python3.11/site-packages (from langchain->-r requirements.txt (line 4)) (6.0.1)\n",
      "Requirement already satisfied: SQLAlchemy<3,>=1.4 in /Users/saurabhkumar/opt/anaconda3/envs/RAG_project/lib/python3.11/site-packages (from langchain->-r requirements.txt (line 4)) (2.0.29)\n",
      "Requirement already satisfied: aiohttp<4.0.0,>=3.8.3 in /Users/saurabhkumar/opt/anaconda3/envs/RAG_project/lib/python3.11/site-packages (from langchain->-r requirements.txt (line 4)) (3.9.3)\n",
      "Requirement already satisfied: dataclasses-json<0.7,>=0.5.7 in /Users/saurabhkumar/opt/anaconda3/envs/RAG_project/lib/python3.11/site-packages (from langchain->-r requirements.txt (line 4)) (0.6.4)\n",
      "Requirement already satisfied: jsonpatch<2.0,>=1.33 in /Users/saurabhkumar/opt/anaconda3/envs/RAG_project/lib/python3.11/site-packages (from langchain->-r requirements.txt (line 4)) (1.33)\n",
      "Requirement already satisfied: langchain-community<0.1,>=0.0.30 in /Users/saurabhkumar/opt/anaconda3/envs/RAG_project/lib/python3.11/site-packages (from langchain->-r requirements.txt (line 4)) (0.0.31)\n",
      "Requirement already satisfied: langchain-core<0.2.0,>=0.1.37 in /Users/saurabhkumar/opt/anaconda3/envs/RAG_project/lib/python3.11/site-packages (from langchain->-r requirements.txt (line 4)) (0.1.40)\n",
      "Requirement already satisfied: langchain-text-splitters<0.1,>=0.0.1 in /Users/saurabhkumar/opt/anaconda3/envs/RAG_project/lib/python3.11/site-packages (from langchain->-r requirements.txt (line 4)) (0.0.1)\n",
      "Requirement already satisfied: langsmith<0.2.0,>=0.1.17 in /Users/saurabhkumar/opt/anaconda3/envs/RAG_project/lib/python3.11/site-packages (from langchain->-r requirements.txt (line 4)) (0.1.40)\n",
      "Requirement already satisfied: aiosignal>=1.1.2 in /Users/saurabhkumar/opt/anaconda3/envs/RAG_project/lib/python3.11/site-packages (from aiohttp<4.0.0,>=3.8.3->langchain->-r requirements.txt (line 4)) (1.3.1)\n",
      "Requirement already satisfied: attrs>=17.3.0 in /Users/saurabhkumar/opt/anaconda3/envs/RAG_project/lib/python3.11/site-packages (from aiohttp<4.0.0,>=3.8.3->langchain->-r requirements.txt (line 4)) (23.2.0)\n",
      "Requirement already satisfied: frozenlist>=1.1.1 in /Users/saurabhkumar/opt/anaconda3/envs/RAG_project/lib/python3.11/site-packages (from aiohttp<4.0.0,>=3.8.3->langchain->-r requirements.txt (line 4)) (1.4.1)\n",
      "Requirement already satisfied: multidict<7.0,>=4.5 in /Users/saurabhkumar/opt/anaconda3/envs/RAG_project/lib/python3.11/site-packages (from aiohttp<4.0.0,>=3.8.3->langchain->-r requirements.txt (line 4)) (6.0.5)\n",
      "Requirement already satisfied: yarl<2.0,>=1.0 in /Users/saurabhkumar/opt/anaconda3/envs/RAG_project/lib/python3.11/site-packages (from aiohttp<4.0.0,>=3.8.3->langchain->-r requirements.txt (line 4)) (1.9.4)\n",
      "Requirement already satisfied: jinja2 in /Users/saurabhkumar/opt/anaconda3/envs/RAG_project/lib/python3.11/site-packages (from altair<6,>=4.0->streamlit->-r requirements.txt (line 1)) (3.1.3)\n",
      "Requirement already satisfied: jsonschema>=3.0 in /Users/saurabhkumar/opt/anaconda3/envs/RAG_project/lib/python3.11/site-packages (from altair<6,>=4.0->streamlit->-r requirements.txt (line 1)) (4.21.1)\n",
      "Requirement already satisfied: toolz in /Users/saurabhkumar/opt/anaconda3/envs/RAG_project/lib/python3.11/site-packages (from altair<6,>=4.0->streamlit->-r requirements.txt (line 1)) (0.12.1)\n",
      "Requirement already satisfied: marshmallow<4.0.0,>=3.18.0 in /Users/saurabhkumar/opt/anaconda3/envs/RAG_project/lib/python3.11/site-packages (from dataclasses-json<0.7,>=0.5.7->langchain->-r requirements.txt (line 4)) (3.21.1)\n",
      "Requirement already satisfied: typing-inspect<1,>=0.4.0 in /Users/saurabhkumar/opt/anaconda3/envs/RAG_project/lib/python3.11/site-packages (from dataclasses-json<0.7,>=0.5.7->langchain->-r requirements.txt (line 4)) (0.9.0)\n",
      "Requirement already satisfied: gitdb<5,>=4.0.1 in /Users/saurabhkumar/opt/anaconda3/envs/RAG_project/lib/python3.11/site-packages (from gitpython!=3.1.19,<4,>=3.0.7->streamlit->-r requirements.txt (line 1)) (4.0.11)\n",
      "Requirement already satisfied: googleapis-common-protos<2.0.dev0,>=1.56.2 in /Users/saurabhkumar/opt/anaconda3/envs/RAG_project/lib/python3.11/site-packages (from google-api-core->google-generativeai->-r requirements.txt (line 2)) (1.63.0)\n",
      "Requirement already satisfied: pyasn1-modules>=0.2.1 in /Users/saurabhkumar/opt/anaconda3/envs/RAG_project/lib/python3.11/site-packages (from google-auth>=2.15.0->google-generativeai->-r requirements.txt (line 2)) (0.4.0)\n",
      "Requirement already satisfied: rsa<5,>=3.1.4 in /Users/saurabhkumar/opt/anaconda3/envs/RAG_project/lib/python3.11/site-packages (from google-auth>=2.15.0->google-generativeai->-r requirements.txt (line 2)) (4.9)\n",
      "Requirement already satisfied: jsonpointer>=1.9 in /Users/saurabhkumar/opt/anaconda3/envs/RAG_project/lib/python3.11/site-packages (from jsonpatch<2.0,>=1.33->langchain->-r requirements.txt (line 4)) (2.4)\n",
      "Requirement already satisfied: orjson<4.0.0,>=3.9.14 in /Users/saurabhkumar/opt/anaconda3/envs/RAG_project/lib/python3.11/site-packages (from langsmith<0.2.0,>=0.1.17->langchain->-r requirements.txt (line 4)) (3.10.0)\n",
      "Requirement already satisfied: python-dateutil>=2.8.2 in /Users/saurabhkumar/opt/anaconda3/envs/RAG_project/lib/python3.11/site-packages (from pandas<3,>=1.3.0->streamlit->-r requirements.txt (line 1)) (2.9.0)\n",
      "Requirement already satisfied: pytz>=2020.1 in /Users/saurabhkumar/opt/anaconda3/envs/RAG_project/lib/python3.11/site-packages (from pandas<3,>=1.3.0->streamlit->-r requirements.txt (line 1)) (2024.1)\n",
      "Requirement already satisfied: tzdata>=2022.7 in /Users/saurabhkumar/opt/anaconda3/envs/RAG_project/lib/python3.11/site-packages (from pandas<3,>=1.3.0->streamlit->-r requirements.txt (line 1)) (2024.1)\n",
      "Requirement already satisfied: annotated-types>=0.4.0 in /Users/saurabhkumar/opt/anaconda3/envs/RAG_project/lib/python3.11/site-packages (from pydantic->google-generativeai->-r requirements.txt (line 2)) (0.6.0)\n",
      "Requirement already satisfied: pydantic-core==2.16.3 in /Users/saurabhkumar/opt/anaconda3/envs/RAG_project/lib/python3.11/site-packages (from pydantic->google-generativeai->-r requirements.txt (line 2)) (2.16.3)\n",
      "Requirement already satisfied: charset-normalizer<4,>=2 in /Users/saurabhkumar/opt/anaconda3/envs/RAG_project/lib/python3.11/site-packages (from requests<3,>=2.27->streamlit->-r requirements.txt (line 1)) (3.3.2)\n",
      "Requirement already satisfied: idna<4,>=2.5 in /Users/saurabhkumar/opt/anaconda3/envs/RAG_project/lib/python3.11/site-packages (from requests<3,>=2.27->streamlit->-r requirements.txt (line 1)) (3.6)\n",
      "Requirement already satisfied: urllib3<3,>=1.21.1 in /Users/saurabhkumar/opt/anaconda3/envs/RAG_project/lib/python3.11/site-packages (from requests<3,>=2.27->streamlit->-r requirements.txt (line 1)) (2.2.1)\n",
      "Requirement already satisfied: certifi>=2017.4.17 in /Users/saurabhkumar/opt/anaconda3/envs/RAG_project/lib/python3.11/site-packages (from requests<3,>=2.27->streamlit->-r requirements.txt (line 1)) (2024.2.2)\n",
      "Requirement already satisfied: markdown-it-py>=2.2.0 in /Users/saurabhkumar/opt/anaconda3/envs/RAG_project/lib/python3.11/site-packages (from rich<14,>=10.14.0->streamlit->-r requirements.txt (line 1)) (3.0.0)\n",
      "Requirement already satisfied: pygments<3.0.0,>=2.13.0 in /Users/saurabhkumar/opt/anaconda3/envs/RAG_project/lib/python3.11/site-packages (from rich<14,>=10.14.0->streamlit->-r requirements.txt (line 1)) (2.17.2)\n",
      "Requirement already satisfied: greenlet!=0.4.17 in /Users/saurabhkumar/opt/anaconda3/envs/RAG_project/lib/python3.11/site-packages (from SQLAlchemy<3,>=1.4->langchain->-r requirements.txt (line 4)) (3.0.3)\n",
      "Requirement already satisfied: smmap<6,>=3.0.1 in /Users/saurabhkumar/opt/anaconda3/envs/RAG_project/lib/python3.11/site-packages (from gitdb<5,>=4.0.1->gitpython!=3.1.19,<4,>=3.0.7->streamlit->-r requirements.txt (line 1)) (5.0.1)\n",
      "Requirement already satisfied: grpcio<2.0dev,>=1.33.2 in /Users/saurabhkumar/opt/anaconda3/envs/RAG_project/lib/python3.11/site-packages (from google-api-core[grpc]!=2.0.*,!=2.1.*,!=2.10.*,!=2.2.*,!=2.3.*,!=2.4.*,!=2.5.*,!=2.6.*,!=2.7.*,!=2.8.*,!=2.9.*,<3.0.0dev,>=1.34.0->google-ai-generativelanguage==0.4.0->google-generativeai->-r requirements.txt (line 2)) (1.62.1)\n",
      "Requirement already satisfied: grpcio-status<2.0.dev0,>=1.33.2 in /Users/saurabhkumar/opt/anaconda3/envs/RAG_project/lib/python3.11/site-packages (from google-api-core[grpc]!=2.0.*,!=2.1.*,!=2.10.*,!=2.2.*,!=2.3.*,!=2.4.*,!=2.5.*,!=2.6.*,!=2.7.*,!=2.8.*,!=2.9.*,<3.0.0dev,>=1.34.0->google-ai-generativelanguage==0.4.0->google-generativeai->-r requirements.txt (line 2)) (1.62.1)\n",
      "Requirement already satisfied: MarkupSafe>=2.0 in /Users/saurabhkumar/opt/anaconda3/envs/RAG_project/lib/python3.11/site-packages (from jinja2->altair<6,>=4.0->streamlit->-r requirements.txt (line 1)) (2.1.5)\n",
      "Requirement already satisfied: jsonschema-specifications>=2023.03.6 in /Users/saurabhkumar/opt/anaconda3/envs/RAG_project/lib/python3.11/site-packages (from jsonschema>=3.0->altair<6,>=4.0->streamlit->-r requirements.txt (line 1)) (2023.12.1)\n",
      "Requirement already satisfied: referencing>=0.28.4 in /Users/saurabhkumar/opt/anaconda3/envs/RAG_project/lib/python3.11/site-packages (from jsonschema>=3.0->altair<6,>=4.0->streamlit->-r requirements.txt (line 1)) (0.34.0)\n",
      "Requirement already satisfied: rpds-py>=0.7.1 in /Users/saurabhkumar/opt/anaconda3/envs/RAG_project/lib/python3.11/site-packages (from jsonschema>=3.0->altair<6,>=4.0->streamlit->-r requirements.txt (line 1)) (0.18.0)\n",
      "Requirement already satisfied: mdurl~=0.1 in /Users/saurabhkumar/opt/anaconda3/envs/RAG_project/lib/python3.11/site-packages (from markdown-it-py>=2.2.0->rich<14,>=10.14.0->streamlit->-r requirements.txt (line 1)) (0.1.2)\n",
      "Requirement already satisfied: pyasn1<0.7.0,>=0.4.6 in /Users/saurabhkumar/opt/anaconda3/envs/RAG_project/lib/python3.11/site-packages (from pyasn1-modules>=0.2.1->google-auth>=2.15.0->google-generativeai->-r requirements.txt (line 2)) (0.6.0)\n",
      "Requirement already satisfied: six>=1.5 in /Users/saurabhkumar/opt/anaconda3/envs/RAG_project/lib/python3.11/site-packages (from python-dateutil>=2.8.2->pandas<3,>=1.3.0->streamlit->-r requirements.txt (line 1)) (1.16.0)\n",
      "Requirement already satisfied: mypy-extensions>=0.3.0 in /Users/saurabhkumar/opt/anaconda3/envs/RAG_project/lib/python3.11/site-packages (from typing-inspect<1,>=0.4.0->dataclasses-json<0.7,>=0.5.7->langchain->-r requirements.txt (line 4)) (1.0.0)\n",
      "Note: you may need to restart the kernel to use updated packages.\n"
     ]
    }
   ],
   "source": [
    "pip install -r requirements.txt"
   ]
  },
  {
   "cell_type": "code",
   "execution_count": 1,
   "metadata": {},
   "outputs": [],
   "source": [
    "# from pyPDF2 import PdfReader"
   ]
  },
  {
   "cell_type": "code",
   "execution_count": 7,
   "metadata": {},
   "outputs": [
    {
     "name": "stderr",
     "output_type": "stream",
     "text": [
      "/Users/saurabhkumar/opt/anaconda3/envs/RAG_project/lib/python3.11/site-packages/tqdm/auto.py:21: TqdmWarning: IProgress not found. Please update jupyter and ipywidgets. See https://ipywidgets.readthedocs.io/en/stable/user_install.html\n",
      "  from .autonotebook import tqdm as notebook_tqdm\n"
     ]
    }
   ],
   "source": [
    "from PyPDF2 import PdfReader\n",
    "from langchain.text_splitter import RecursiveCharacterTextSplitter\n",
    "import os \n",
    "from langchain_google_genai import GoogleGenerativeAIEmbeddings\n",
    "import google.generativeai as genai\n",
    "from langchain.vectorstores import FAISS\n",
    "from langchain_google_genai import ChatGoogleGenerativeAI\n",
    "from langchain.chains.question_answering import load_qa_chain\n",
    "from langchain.prompts import PromptTemplate\n",
    "from dotenv import load_dotenv\n"
   ]
  },
  {
   "cell_type": "code",
   "execution_count": null,
   "metadata": {},
   "outputs": [],
   "source": [
    "load_dotenv()\n",
    "os.getenv(\"GOOGLE_API_KEY\")\n",
    "genai.configure(api_key=os.getenv(\"GOOGLE_API_KEY\"))"
   ]
  },
  {
   "cell_type": "code",
   "execution_count": null,
   "metadata": {},
   "outputs": [],
   "source": [
    "def get_pdf_text(pdf_docs):\n",
    "    text=\"\"\n",
    "    for pdf in pdf_docs:\n",
    "        pdf_reader=PdfReader(pdf)\n",
    "        for page in pdf_reader.pages:\n",
    "            text+=page.extract_text()\n",
    "    return text        \n"
   ]
  },
  {
   "cell_type": "code",
   "execution_count": null,
   "metadata": {},
   "outputs": [],
   "source": [
    "def get_text_chunks(text):\n",
    "    text_splitter=RecursiveCharacterTextSplitter(chunk_size=10000,chunk_overlap=1000)\n",
    "    chunks=text_splitter.split_text(text)\n",
    "    return chunks "
   ]
  },
  {
   "cell_type": "code",
   "execution_count": null,
   "metadata": {},
   "outputs": [],
   "source": [
    "def get_vector_store(text_chunks):\n",
    "    embeddings=GoogleGenerativeAIEmbeddings(model=\"models/embedding-001\")\n",
    "    vector_store=FAISS.from_texts(text_chunks,embedding=embeddings)\n",
    "    vector_store.save_local(\"faiss-index\")"
   ]
  },
  {
   "cell_type": "code",
   "execution_count": null,
   "metadata": {},
   "outputs": [],
   "source": [
    "def get_conversational_chain():\n",
    "    prompt_template=\"\"\"\n",
    "    Answer the question as detailed as possible from the provided context, make sure to provide all the details, if the answer is not in\n",
    "    provided context just say, \"answer is not available in the context\", don't provide the wrong answer\\n\\n\n",
    "    Context:\\n {context}?\\n\n",
    "    Question: \\n{question}\\n\n",
    "\n",
    "    Answer:\n",
    "\n",
    "    \"\"\"\n",
    "    model=ChatGoogleGenerativeAI(model=\"gemini-pro\",temperature=0.3)\n",
    "    prompt=PromptTemplate(template=prompt_template,input_variables=[\"context\",\"question\"])\n",
    "    chain=load_qa_chain(model,chain_type=\"stuff\",prompt=prompt)\n",
    "\n",
    "    return chain"
   ]
  },
  {
   "cell_type": "code",
   "execution_count": null,
   "metadata": {},
   "outputs": [],
   "source": [
    "def user_input(user_question):\n",
    "    embeddings=GoogleGenerativeAIEmbeddings(model=\"models/embedding-001\")\n",
    "    new_db=FAISS.load_local(\"faiss-index\",embeddings)\n",
    "    docs=new_db.similarity_search(user_question)\n",
    "    \n",
    "    chain=get_conversational_chain()\n",
    "\n",
    "    response=chain(\n",
    "        {\"input_documents\":docs,\"question\":user_question},return_only_outputs=True\n",
    "    )\n",
    "\n",
    "    print(response)\n",
    "\n",
    "    st.write(\"Reply: \",response[\"output_text\"])\n",
    "    "
   ]
  },
  {
   "cell_type": "code",
   "execution_count": null,
   "metadata": {},
   "outputs": [],
   "source": [
    "def main():\n",
    "    st.set_page_config(\"Chat PDF\")\n",
    "    st.header(\"Chat with PDF using Gemini\")\n",
    "\n",
    "    user_question=st.text_input(\"Ask a question from pdf files\")\n",
    "\n",
    "    if user_question:\n",
    "        user_input(user_question)\n",
    "\n",
    "    with st.sidebar:\n",
    "        st.title(\"Menu:\")\n",
    "        pdf_docs=st.file_uploader(\"Upload your PDF files and click on submit & process button\",accept_multiple_files=True)\n",
    "        if st.button(\"Submit & Process\"):\n",
    "            with st.spinner(\"Processing...\"):\n",
    "                raw_text=get_pdf_text(pdf_docs)\n",
    "                text_chunks=get_text_chunks(raw_text)\n",
    "                get_vector_store(text_chunks)\n",
    "                st.success(\"Done\")\n",
    "\n",
    "\n"
   ]
  },
  {
   "cell_type": "code",
   "execution_count": null,
   "metadata": {},
   "outputs": [],
   "source": [
    "# if __name__==\"_main_\":\n",
    "main()"
   ]
  },
  {
   "cell_type": "code",
   "execution_count": null,
   "metadata": {},
   "outputs": [
    {
     "ename": "SyntaxError",
     "evalue": "invalid syntax (3660313088.py, line 1)",
     "output_type": "error",
     "traceback": [
      "\u001b[0;36m  Cell \u001b[0;32mIn[20], line 1\u001b[0;36m\u001b[0m\n\u001b[0;31m    streamlit run main.ipynb\u001b[0m\n\u001b[0m              ^\u001b[0m\n\u001b[0;31mSyntaxError\u001b[0m\u001b[0;31m:\u001b[0m invalid syntax\n"
     ]
    }
   ],
   "source": [
    "streamlit run main.ipynb"
   ]
  },
  {
   "cell_type": "code",
   "execution_count": null,
   "metadata": {},
   "outputs": [],
   "source": []
  }
 ],
 "metadata": {
  "kernelspec": {
   "display_name": "RAG_project",
   "language": "python",
   "name": "python3"
  },
  "language_info": {
   "codemirror_mode": {
    "name": "ipython",
    "version": 3
   },
   "file_extension": ".py",
   "mimetype": "text/x-python",
   "name": "python",
   "nbconvert_exporter": "python",
   "pygments_lexer": "ipython3",
   "version": "3.11.8"
  },
  "orig_nbformat": 4
 },
 "nbformat": 4,
 "nbformat_minor": 2
}
